{
 "cells": [
  {
   "cell_type": "code",
   "execution_count": 85,
   "id": "7053a2a9",
   "metadata": {},
   "outputs": [
    {
     "name": "stderr",
     "output_type": "stream",
     "text": [
      "unknown option --quiet\n",
      "usage: python [option] ... [-c cmd | -m mod | file | -] [arg] ...\n",
      "Try `python -h' for more information.\n"
     ]
    }
   ],
   "source": [
    "!python -V --quiet"
   ]
  },
  {
   "cell_type": "code",
   "execution_count": 86,
   "id": "7128b3c4",
   "metadata": {},
   "outputs": [],
   "source": [
    "!pip install scikit-learn --quiet\n",
    "!pip install seaborn --quiet"
   ]
  },
  {
   "cell_type": "code",
   "execution_count": 87,
   "id": "366b7f5a",
   "metadata": {},
   "outputs": [
    {
     "data": {
      "text/plain": [
       "'1.5.3'"
      ]
     },
     "execution_count": 87,
     "metadata": {},
     "output_type": "execute_result"
    }
   ],
   "source": [
    "import pandas as pd\n",
    "pd.__version__"
   ]
  },
  {
   "cell_type": "code",
   "execution_count": 88,
   "id": "270f831e",
   "metadata": {},
   "outputs": [],
   "source": [
    "from sklearn.feature_extraction import DictVectorizer\n",
    "from sklearn.linear_model import LinearRegression\n",
    "from sklearn.linear_model import Lasso\n",
    "from sklearn.linear_model import Ridge\n",
    "from sklearn.metrics import root_mean_squared_error"
   ]
  },
  {
   "cell_type": "code",
   "execution_count": 89,
   "id": "cb2a8057",
   "metadata": {},
   "outputs": [],
   "source": [
    "import seaborn as sns\n",
    "import matplotlib.pyplot as plt"
   ]
  },
  {
   "cell_type": "markdown",
   "id": "0628e53d",
   "metadata": {},
   "source": [
    "Only run next cell if `read_parquet` function doesn't work."
   ]
  },
  {
   "cell_type": "code",
   "execution_count": 90,
   "id": "f97f8ef7",
   "metadata": {},
   "outputs": [],
   "source": [
    "#!pip install pyarrow"
   ]
  },
  {
   "cell_type": "markdown",
   "id": "e4d0ae7f",
   "metadata": {},
   "source": [
    "Custom function to read and preprocess the data for February."
   ]
  },
  {
   "cell_type": "code",
   "execution_count": 91,
   "id": "1e34289d",
   "metadata": {},
   "outputs": [],
   "source": [
    "def read_dataframe(filename):\n",
    "    if filename.endswith('.csv'):\n",
    "        df = pd.read_csv(filename)\n",
    "\n",
    "        df.lpep_dropoff_datetime = pd.to_datetime(df.lpep_dropoff_datetime)\n",
    "        df.lpep_pickup_datetime = pd.to_datetime(df.lpep_pickup_datetime)\n",
    "    \n",
    "    elif filename.endswith('.parquet'):\n",
    "        df = pd.read_parquet(filename)\n",
    "\n",
    "    df['duration'] = df.tpep_dropoff_datetime - df.tpep_pickup_datetime\n",
    "    df.duration = df.duration.apply(lambda td: td.total_seconds() / 60)\n",
    "    \n",
    "    # Get original number of records\n",
    "    original_records = df.shape[0]\n",
    "    \n",
    "    # Clean for outliers\n",
    "    df = df[(df.duration >= 1) & (df.duration <= 60)]\n",
    "    \n",
    "    # Get new number of records and percentage of clean data\n",
    "    no_outliers_records = df.shape[0]\n",
    "    perc_clean = no_outliers_records/original_records*100\n",
    "    \n",
    "    categorical = ['PULocationID', 'DOLocationID']\n",
    "    df[categorical] = df[categorical].astype(str)\n",
    "    \n",
    "    return df, perc_clean"
   ]
  },
  {
   "cell_type": "markdown",
   "id": "b0af78d6",
   "metadata": {},
   "source": [
    "## Q1. Downloading the data"
   ]
  },
  {
   "cell_type": "markdown",
   "id": "02eb5657",
   "metadata": {},
   "source": [
    "We'll use the same [NYC taxi dataset](https://www.nyc.gov/site/tlc/about/tlc-trip-record-data.page), but instead of \"Green Taxi Trip Records\", we'll use \"Yellow Taxi Trip Records\".\n",
    "\n",
    "We will be using the data for January and February 2023."
   ]
  },
  {
   "cell_type": "markdown",
   "id": "cf3d8992",
   "metadata": {},
   "source": [
    "**Step 1:** Load the parquet data files."
   ]
  },
  {
   "cell_type": "code",
   "execution_count": 92,
   "id": "d531dc43",
   "metadata": {},
   "outputs": [],
   "source": [
    "df_jan = pd.read_parquet('https://d37ci6vzurychx.cloudfront.net/trip-data/yellow_tripdata_2023-01.parquet')\n"
   ]
  },
  {
   "cell_type": "code",
   "execution_count": 93,
   "id": "c2990f2f",
   "metadata": {},
   "outputs": [
    {
     "data": {
      "text/plain": [
       "VendorID                          int64\n",
       "tpep_pickup_datetime     datetime64[ns]\n",
       "tpep_dropoff_datetime    datetime64[ns]\n",
       "passenger_count                 float64\n",
       "trip_distance                   float64\n",
       "RatecodeID                      float64\n",
       "store_and_fwd_flag               object\n",
       "PULocationID                      int64\n",
       "DOLocationID                      int64\n",
       "payment_type                      int64\n",
       "fare_amount                     float64\n",
       "extra                           float64\n",
       "mta_tax                         float64\n",
       "tip_amount                      float64\n",
       "tolls_amount                    float64\n",
       "improvement_surcharge           float64\n",
       "total_amount                    float64\n",
       "congestion_surcharge            float64\n",
       "airport_fee                     float64\n",
       "dtype: object"
      ]
     },
     "execution_count": 93,
     "metadata": {},
     "output_type": "execute_result"
    }
   ],
   "source": [
    "df_jan.dtypes"
   ]
  },
  {
   "cell_type": "code",
   "execution_count": 94,
   "id": "8b4bcd4b",
   "metadata": {},
   "outputs": [
    {
     "data": {
      "text/html": [
       "<div>\n",
       "<style scoped>\n",
       "    .dataframe tbody tr th:only-of-type {\n",
       "        vertical-align: middle;\n",
       "    }\n",
       "\n",
       "    .dataframe tbody tr th {\n",
       "        vertical-align: top;\n",
       "    }\n",
       "\n",
       "    .dataframe thead th {\n",
       "        text-align: right;\n",
       "    }\n",
       "</style>\n",
       "<table border=\"1\" class=\"dataframe\">\n",
       "  <thead>\n",
       "    <tr style=\"text-align: right;\">\n",
       "      <th></th>\n",
       "      <th>VendorID</th>\n",
       "      <th>tpep_pickup_datetime</th>\n",
       "      <th>tpep_dropoff_datetime</th>\n",
       "      <th>passenger_count</th>\n",
       "      <th>trip_distance</th>\n",
       "      <th>RatecodeID</th>\n",
       "      <th>store_and_fwd_flag</th>\n",
       "      <th>PULocationID</th>\n",
       "      <th>DOLocationID</th>\n",
       "      <th>payment_type</th>\n",
       "      <th>fare_amount</th>\n",
       "      <th>extra</th>\n",
       "      <th>mta_tax</th>\n",
       "      <th>tip_amount</th>\n",
       "      <th>tolls_amount</th>\n",
       "      <th>improvement_surcharge</th>\n",
       "      <th>total_amount</th>\n",
       "      <th>congestion_surcharge</th>\n",
       "      <th>airport_fee</th>\n",
       "    </tr>\n",
       "  </thead>\n",
       "  <tbody>\n",
       "    <tr>\n",
       "      <th>0</th>\n",
       "      <td>2</td>\n",
       "      <td>2023-01-01 00:32:10</td>\n",
       "      <td>2023-01-01 00:40:36</td>\n",
       "      <td>1.0</td>\n",
       "      <td>0.97</td>\n",
       "      <td>1.0</td>\n",
       "      <td>N</td>\n",
       "      <td>161</td>\n",
       "      <td>141</td>\n",
       "      <td>2</td>\n",
       "      <td>9.3</td>\n",
       "      <td>1.00</td>\n",
       "      <td>0.5</td>\n",
       "      <td>0.00</td>\n",
       "      <td>0.0</td>\n",
       "      <td>1.0</td>\n",
       "      <td>14.30</td>\n",
       "      <td>2.5</td>\n",
       "      <td>0.00</td>\n",
       "    </tr>\n",
       "    <tr>\n",
       "      <th>1</th>\n",
       "      <td>2</td>\n",
       "      <td>2023-01-01 00:55:08</td>\n",
       "      <td>2023-01-01 01:01:27</td>\n",
       "      <td>1.0</td>\n",
       "      <td>1.10</td>\n",
       "      <td>1.0</td>\n",
       "      <td>N</td>\n",
       "      <td>43</td>\n",
       "      <td>237</td>\n",
       "      <td>1</td>\n",
       "      <td>7.9</td>\n",
       "      <td>1.00</td>\n",
       "      <td>0.5</td>\n",
       "      <td>4.00</td>\n",
       "      <td>0.0</td>\n",
       "      <td>1.0</td>\n",
       "      <td>16.90</td>\n",
       "      <td>2.5</td>\n",
       "      <td>0.00</td>\n",
       "    </tr>\n",
       "    <tr>\n",
       "      <th>2</th>\n",
       "      <td>2</td>\n",
       "      <td>2023-01-01 00:25:04</td>\n",
       "      <td>2023-01-01 00:37:49</td>\n",
       "      <td>1.0</td>\n",
       "      <td>2.51</td>\n",
       "      <td>1.0</td>\n",
       "      <td>N</td>\n",
       "      <td>48</td>\n",
       "      <td>238</td>\n",
       "      <td>1</td>\n",
       "      <td>14.9</td>\n",
       "      <td>1.00</td>\n",
       "      <td>0.5</td>\n",
       "      <td>15.00</td>\n",
       "      <td>0.0</td>\n",
       "      <td>1.0</td>\n",
       "      <td>34.90</td>\n",
       "      <td>2.5</td>\n",
       "      <td>0.00</td>\n",
       "    </tr>\n",
       "    <tr>\n",
       "      <th>3</th>\n",
       "      <td>1</td>\n",
       "      <td>2023-01-01 00:03:48</td>\n",
       "      <td>2023-01-01 00:13:25</td>\n",
       "      <td>0.0</td>\n",
       "      <td>1.90</td>\n",
       "      <td>1.0</td>\n",
       "      <td>N</td>\n",
       "      <td>138</td>\n",
       "      <td>7</td>\n",
       "      <td>1</td>\n",
       "      <td>12.1</td>\n",
       "      <td>7.25</td>\n",
       "      <td>0.5</td>\n",
       "      <td>0.00</td>\n",
       "      <td>0.0</td>\n",
       "      <td>1.0</td>\n",
       "      <td>20.85</td>\n",
       "      <td>0.0</td>\n",
       "      <td>1.25</td>\n",
       "    </tr>\n",
       "    <tr>\n",
       "      <th>4</th>\n",
       "      <td>2</td>\n",
       "      <td>2023-01-01 00:10:29</td>\n",
       "      <td>2023-01-01 00:21:19</td>\n",
       "      <td>1.0</td>\n",
       "      <td>1.43</td>\n",
       "      <td>1.0</td>\n",
       "      <td>N</td>\n",
       "      <td>107</td>\n",
       "      <td>79</td>\n",
       "      <td>1</td>\n",
       "      <td>11.4</td>\n",
       "      <td>1.00</td>\n",
       "      <td>0.5</td>\n",
       "      <td>3.28</td>\n",
       "      <td>0.0</td>\n",
       "      <td>1.0</td>\n",
       "      <td>19.68</td>\n",
       "      <td>2.5</td>\n",
       "      <td>0.00</td>\n",
       "    </tr>\n",
       "  </tbody>\n",
       "</table>\n",
       "</div>"
      ],
      "text/plain": [
       "   VendorID tpep_pickup_datetime tpep_dropoff_datetime  passenger_count  \\\n",
       "0         2  2023-01-01 00:32:10   2023-01-01 00:40:36              1.0   \n",
       "1         2  2023-01-01 00:55:08   2023-01-01 01:01:27              1.0   \n",
       "2         2  2023-01-01 00:25:04   2023-01-01 00:37:49              1.0   \n",
       "3         1  2023-01-01 00:03:48   2023-01-01 00:13:25              0.0   \n",
       "4         2  2023-01-01 00:10:29   2023-01-01 00:21:19              1.0   \n",
       "\n",
       "   trip_distance  RatecodeID store_and_fwd_flag  PULocationID  DOLocationID  \\\n",
       "0           0.97         1.0                  N           161           141   \n",
       "1           1.10         1.0                  N            43           237   \n",
       "2           2.51         1.0                  N            48           238   \n",
       "3           1.90         1.0                  N           138             7   \n",
       "4           1.43         1.0                  N           107            79   \n",
       "\n",
       "   payment_type  fare_amount  extra  mta_tax  tip_amount  tolls_amount  \\\n",
       "0             2          9.3   1.00      0.5        0.00           0.0   \n",
       "1             1          7.9   1.00      0.5        4.00           0.0   \n",
       "2             1         14.9   1.00      0.5       15.00           0.0   \n",
       "3             1         12.1   7.25      0.5        0.00           0.0   \n",
       "4             1         11.4   1.00      0.5        3.28           0.0   \n",
       "\n",
       "   improvement_surcharge  total_amount  congestion_surcharge  airport_fee  \n",
       "0                    1.0         14.30                   2.5         0.00  \n",
       "1                    1.0         16.90                   2.5         0.00  \n",
       "2                    1.0         34.90                   2.5         0.00  \n",
       "3                    1.0         20.85                   0.0         1.25  \n",
       "4                    1.0         19.68                   2.5         0.00  "
      ]
     },
     "execution_count": 94,
     "metadata": {},
     "output_type": "execute_result"
    }
   ],
   "source": [
    "df_jan.head()"
   ]
  },
  {
   "cell_type": "markdown",
   "id": "55550d18",
   "metadata": {},
   "source": [
    "Read the data for January. How many columns are there?"
   ]
  },
  {
   "cell_type": "markdown",
   "id": "4ce2b624",
   "metadata": {},
   "source": [
    "**Step 2:** Get number of columns in the parquet file."
   ]
  },
  {
   "cell_type": "code",
   "execution_count": 95,
   "id": "09c0b3e0",
   "metadata": {
    "scrolled": true
   },
   "outputs": [
    {
     "data": {
      "text/plain": [
       "19"
      ]
     },
     "execution_count": 95,
     "metadata": {},
     "output_type": "execute_result"
    }
   ],
   "source": [
    "len(df_jan.columns)"
   ]
  },
  {
   "cell_type": "markdown",
   "id": "db4ad50e",
   "metadata": {},
   "source": [
    "## Q2. Computing duration"
   ]
  },
  {
   "cell_type": "markdown",
   "id": "3d88d84c",
   "metadata": {},
   "source": [
    "Now let's compute the duration variable. It should contain the duration of a ride in minutes."
   ]
  },
  {
   "cell_type": "markdown",
   "id": "38e29c12",
   "metadata": {},
   "source": [
    "**Step 1:** Calculate the duration of the trip in minutes for each dataset."
   ]
  },
  {
   "cell_type": "code",
   "execution_count": 96,
   "id": "009567eb",
   "metadata": {},
   "outputs": [],
   "source": [
    "df_jan['duration'] = df_jan.tpep_dropoff_datetime - df_jan.tpep_pickup_datetime\n",
    "df_jan.duration = df_jan.duration.apply(lambda td: td.total_seconds() / 60)"
   ]
  },
  {
   "cell_type": "markdown",
   "id": "7b192966",
   "metadata": {},
   "source": [
    "What's the standard deviation of the trips duration in January?"
   ]
  },
  {
   "cell_type": "markdown",
   "id": "1385bb4e",
   "metadata": {},
   "source": [
    "**Step 2:** Compute the standard deviation of the trips duration in January."
   ]
  },
  {
   "cell_type": "code",
   "execution_count": 97,
   "id": "394fa61f",
   "metadata": {
    "scrolled": true
   },
   "outputs": [
    {
     "data": {
      "text/plain": [
       "42.59435124195458"
      ]
     },
     "execution_count": 97,
     "metadata": {},
     "output_type": "execute_result"
    }
   ],
   "source": [
    "df_jan.duration.std()"
   ]
  },
  {
   "cell_type": "markdown",
   "id": "3855a70d",
   "metadata": {},
   "source": [
    "## Q3. Dropping outliers"
   ]
  },
  {
   "cell_type": "markdown",
   "id": "59bea04c",
   "metadata": {},
   "source": [
    "Next, we need to check the distribution of the duration variable. There are some outliers. Let's remove them and keep only the records where the duration was between 1 and 60 minutes (inclusive)."
   ]
  },
  {
   "cell_type": "markdown",
   "id": "63c1db1d",
   "metadata": {},
   "source": [
    "**Step 1:** Remove outliers and keep how many records did you have before cleaning."
   ]
  },
  {
   "cell_type": "code",
   "execution_count": 98,
   "id": "3825ce4a",
   "metadata": {},
   "outputs": [],
   "source": [
    "original_records_jan = df_jan.shape[0]\n",
    "df_jan = df_jan[(df_jan.duration >=1) & (df_jan.duration <=60)]\n",
    "no_outliers_records_jan = df_jan.shape[0]"
   ]
  },
  {
   "cell_type": "markdown",
   "id": "0926f6a2",
   "metadata": {},
   "source": [
    "What fraction of the records left after you dropped the outliers?"
   ]
  },
  {
   "cell_type": "markdown",
   "id": "d8f64c80",
   "metadata": {},
   "source": [
    "**Step 2:** Compute percentage of the records kept after cleaning the outliers."
   ]
  },
  {
   "cell_type": "code",
   "execution_count": 99,
   "id": "839a8cdb",
   "metadata": {},
   "outputs": [
    {
     "data": {
      "text/plain": [
       "98.1220282212598"
      ]
     },
     "execution_count": 99,
     "metadata": {},
     "output_type": "execute_result"
    }
   ],
   "source": [
    "no_outliers_records_jan/original_records_jan*100"
   ]
  },
  {
   "cell_type": "markdown",
   "id": "3a34a5d9",
   "metadata": {},
   "source": [
    "## Q4. One-hot encoding"
   ]
  },
  {
   "cell_type": "markdown",
   "id": "504d9c8f",
   "metadata": {},
   "source": [
    "Let's apply one-hot encoding to the pickup and dropoff location IDs. We'll use only these two features for our model.\n",
    "\n",
    "- Turn the dataframe into a list of dictionaries (remember to re-cast the ids to strings - otherwise it will label encode them)\n",
    "- Fit a dictionary vectorizer\n",
    "- Get a feature matrix from it"
   ]
  },
  {
   "cell_type": "markdown",
   "id": "24e30b66",
   "metadata": {},
   "source": [
    "**Step 1:** Turn the dataframes into a list of dictionaries, fit a dictionary vectorizer and get a feature matrix from it."
   ]
  },
  {
   "cell_type": "code",
   "execution_count": 100,
   "id": "50d7b7f3",
   "metadata": {},
   "outputs": [],
   "source": [
    "categorical = ['PULocationID', 'DOLocationID']"
   ]
  },
  {
   "cell_type": "code",
   "execution_count": 101,
   "id": "77ccb881",
   "metadata": {},
   "outputs": [],
   "source": [
    "df_jan[categorical] = df_jan[categorical].astype(str)\n",
    "train_dicts = df_jan[categorical].to_dict(orient='records')\n",
    "dv_jan = DictVectorizer()\n",
    "X_train_jan = dv_jan.fit_transform(train_dicts)"
   ]
  },
  {
   "cell_type": "markdown",
   "id": "f0810c5a",
   "metadata": {},
   "source": [
    "What's the dimensionality of this matrix (number of columns)?"
   ]
  },
  {
   "cell_type": "markdown",
   "id": "9bb00176",
   "metadata": {},
   "source": [
    "**Step 2:** See dimensions of the sparse matrix."
   ]
  },
  {
   "cell_type": "code",
   "execution_count": 102,
   "id": "a6f24ffa",
   "metadata": {},
   "outputs": [
    {
     "data": {
      "text/plain": [
       "<Compressed Sparse Row sparse matrix of dtype 'float64'\n",
       "\twith 6018346 stored elements and shape (3009173, 515)>"
      ]
     },
     "execution_count": 102,
     "metadata": {},
     "output_type": "execute_result"
    }
   ],
   "source": [
    "X_train_jan"
   ]
  },
  {
   "cell_type": "markdown",
   "id": "946254fb",
   "metadata": {},
   "source": [
    "## Q5. Training a model"
   ]
  },
  {
   "cell_type": "markdown",
   "id": "6db9fdcb",
   "metadata": {},
   "source": [
    "Now let's use the feature matrix from the previous step to train a model.\n",
    "- Train a plain linear regression model with default parameters, where duration is the response variable\n",
    "- Calculate the RMSE of the model on the training data"
   ]
  },
  {
   "cell_type": "markdown",
   "id": "7e5788d9",
   "metadata": {},
   "source": [
    "**Step 1:** Train the linear regression model with default parameters and with `duration` as the response variable."
   ]
  },
  {
   "cell_type": "code",
   "execution_count": 103,
   "id": "f1d55066",
   "metadata": {},
   "outputs": [],
   "source": [
    "target = 'duration'"
   ]
  },
  {
   "cell_type": "code",
   "execution_count": 104,
   "id": "161ed020",
   "metadata": {},
   "outputs": [],
   "source": [
    "y_train_jan = df_jan[target].values\n",
    "lr = LinearRegression()\n",
    "lr.fit(X_train_jan, y_train_jan)\n",
    "y_pred_jan = lr.predict(X_train_jan)"
   ]
  },
  {
   "cell_type": "code",
   "execution_count": 105,
   "id": "c38ebb87",
   "metadata": {},
   "outputs": [],
   "source": [
    "df_y_pred_jan = pd.DataFrame({'value': y_pred_jan, 'type': 'prediction'})\n",
    "df_y_train_jan = pd.DataFrame({'value': y_train_jan, 'type': 'actual'})\n",
    "combined_df_y_jan = pd.concat([df_y_pred_jan, df_y_train_jan], ignore_index=True)"
   ]
  },
  {
   "cell_type": "code",
   "execution_count": 106,
   "id": "dd529704",
   "metadata": {
    "scrolled": true
   },
   "outputs": [
    {
     "data": {
      "text/plain": [
       "<Figure size 1000x600 with 0 Axes>"
      ]
     },
     "metadata": {},
     "output_type": "display_data"
    },
    {
     "data": {
      "image/png": "[encoded data removed]",
      "text/plain": [
       "<Figure size 619.875x500 with 1 Axes>"
      ]
     },
     "metadata": {},
     "output_type": "display_data"
    }
   ],
   "source": [
    "plt.figure(figsize=(10, 6))\n",
    "sns.displot(combined_df_y_jan, x='value', hue='type', bins=43, kde=True, stat=\"density\", kde_kws=dict(cut=3), alpha=.4, edgecolor=(1, 1, 1, .4))\n",
    "plt.xlabel('Value')\n",
    "plt.ylabel('Density')\n",
    "plt.show()"
   ]
  },
  {
   "cell_type": "markdown",
   "id": "e6457bd4",
   "metadata": {},
   "source": [
    "What's the RMSE on train?"
   ]
  },
  {
   "cell_type": "markdown",
   "id": "0a76a84c",
   "metadata": {},
   "source": [
    "**Step 2:** Compute the RMSE for train data."
   ]
  },
  {
   "cell_type": "code",
   "execution_count": 107,
   "id": "b3c326e5",
   "metadata": {},
   "outputs": [
    {
     "data": {
      "text/plain": [
       "7.649261931816197"
      ]
     },
     "execution_count": 107,
     "metadata": {},
     "output_type": "execute_result"
    }
   ],
   "source": [
    "root_mean_squared_error(y_train_jan, y_pred_jan)"
   ]
  },
  {
   "cell_type": "markdown",
   "id": "8cb3925c",
   "metadata": {},
   "source": [
    "## Q6. Evaluating the model"
   ]
  },
  {
   "cell_type": "markdown",
   "id": "52907efc",
   "metadata": {},
   "source": [
    "Now let's apply this model to the validation dataset (February 2023)."
   ]
  },
  {
   "cell_type": "markdown",
   "id": "a91b0128",
   "metadata": {},
   "source": [
    "**Step 1:** Use the custom function `read_dataframe` to read and preprocess the data from February."
   ]
  },
  {
   "cell_type": "code",
   "execution_count": 108,
   "id": "9db82595",
   "metadata": {},
   "outputs": [
    {
     "data": {
      "text/plain": [
       "98.00944077722545"
      ]
     },
     "execution_count": 108,
     "metadata": {},
     "output_type": "execute_result"
    }
   ],
   "source": [
    "df_feb, perc_clean_feb = read_dataframe('https://d37ci6vzurychx.cloudfront.net/trip-data/yellow_tripdata_2023-02.parquet')\n",
    "df_feb\n",
    "perc_clean_feb"
   ]
  },
  {
   "cell_type": "code",
   "execution_count": 109,
   "id": "597f6379",
   "metadata": {},
   "outputs": [
    {
     "data": {
      "text/plain": [
       "(3009173, 2855951)"
      ]
     },
     "execution_count": 109,
     "metadata": {},
     "output_type": "execute_result"
    }
   ],
   "source": [
    "len(df_jan), len(df_feb)"
   ]
  },
  {
   "cell_type": "markdown",
   "id": "02729068",
   "metadata": {},
   "source": [
    "**Step 2:** Turn the dataframes into a list of dictionaries, fit a dictionary vectorizer and get a feature matrix from it."
   ]
  },
  {
   "cell_type": "code",
   "execution_count": 110,
   "id": "3ec028d0",
   "metadata": {},
   "outputs": [],
   "source": [
    "categorical = ['PULocationID', 'DOLocationID']\n",
    "numerical = ['trip_distance']\n",
    "\n",
    "dv = DictVectorizer()\n",
    "\n",
    "train_dicts = df_jan[categorical].to_dict(orient='records')\n",
    "X_train = dv.fit_transform(train_dicts)\n",
    "\n",
    "val_dicts = df_feb[categorical].to_dict(orient='records')\n",
    "X_val = dv.transform(val_dicts)"
   ]
  },
  {
   "cell_type": "markdown",
   "id": "30b00c3f",
   "metadata": {},
   "source": [
    "**Step 3:** Get train and validation response variables."
   ]
  },
  {
   "cell_type": "code",
   "execution_count": 111,
   "id": "72c4cc83",
   "metadata": {},
   "outputs": [],
   "source": [
    "target = 'duration'\n",
    "y_train = df_jan[target].values\n",
    "y_val = df_feb[target].values"
   ]
  },
  {
   "cell_type": "markdown",
   "id": "eb813a36",
   "metadata": {},
   "source": [
    "**Step 4:** Train the model with the training dataset and validate it with the validation dataset."
   ]
  },
  {
   "cell_type": "code",
   "execution_count": 112,
   "id": "14f8ed86",
   "metadata": {},
   "outputs": [],
   "source": [
    "lr = LinearRegression()\n",
    "lr.fit(X_train, y_train)\n",
    "\n",
    "y_pred = lr.predict(X_val)"
   ]
  },
  {
   "cell_type": "markdown",
   "id": "96ccefde",
   "metadata": {},
   "source": [
    "What's the RMSE on validation?"
   ]
  },
  {
   "cell_type": "markdown",
   "id": "9956f568",
   "metadata": {},
   "source": [
    "**Step 5:** Compute the RMSE for validation data."
   ]
  },
  {
   "cell_type": "code",
   "execution_count": 113,
   "id": "b229b7dc",
   "metadata": {},
   "outputs": [
    {
     "data": {
      "text/plain": [
       "7.8118186871593"
      ]
     },
     "execution_count": 113,
     "metadata": {},
     "output_type": "execute_result"
    }
   ],
   "source": [
    "root_mean_squared_error(y_val, y_pred)"
   ]
  },
  {
   "cell_type": "code",
   "execution_count": null,
   "id": "f26aafd1",
   "metadata": {},
   "outputs": [],
   "source": []
  }
 ],
 "metadata": {
  "kernelspec": {
   "display_name": "Python 3",
   "language": "python",
   "name": "python3"
  },
  "language_info": {
   "codemirror_mode": {
    "name": "ipython",
    "version": 3
   },
   "file_extension": ".py",
   "mimetype": "text/x-python",
   "name": "python",
   "nbconvert_exporter": "python",
   "pygments_lexer": "ipython3",
   "version": "3.10.11"
  }
 },
 "nbformat": 4,
 "nbformat_minor": 5
}
